{
  "nbformat": 4,
  "nbformat_minor": 0,
  "metadata": {
    "colab": {
      "provenance": []
    },
    "kernelspec": {
      "name": "python3",
      "display_name": "Python 3"
    },
    "language_info": {
      "name": "python"
    }
  },
  "cells": [
    {
      "cell_type": "code",
      "execution_count": 1,
      "metadata": {
        "id": "ih5GM7uepoFj"
      },
      "outputs": [],
      "source": [
        "#Installing the libraries for splitting up the folders\n",
        "!pip install split-folders -q"
      ]
    },
    {
      "cell_type": "code",
      "source": [
        "!pip install tensorflow -q"
      ],
      "metadata": {
        "id": "bTewws77vM2S"
      },
      "execution_count": 7,
      "outputs": []
    },
    {
      "cell_type": "code",
      "source": [
        "#Import the necessary libraries\n",
        "import tensorflow as tf\n",
        "from tensorflow.keras.preprocessing.image import ImageDataGenerator\n",
        "from tensorflow.keras.applications import MobileNetV2, InceptionV3\n",
        "from tensorflow.keras.layers import GlobalAveragePooling2D, Dense\n",
        "from tensorflow.keras.models import Model\n",
        "from tensorflow.keras.optimizers import Adam\n",
        "\n",
        "import splitfolders\n",
        "import os\n",
        "from google.colab import files\n",
        "import matplotlib.pyplot as plt\n",
        "import numpy as np\n",
        "from sklearn.metrics import classification_report\n",
        "import seaborn as sns\n",
        "print(\"All libraries are installed and imported succesfully\")"
      ],
      "metadata": {
        "colab": {
          "base_uri": "https://localhost:8080/"
        },
        "id": "VMB_UCIOtDeb",
        "outputId": "6f0838f9-6f50-4d74-911a-c6645ae6da0a"
      },
      "execution_count": 20,
      "outputs": [
        {
          "output_type": "stream",
          "name": "stdout",
          "text": [
            "All libraries are installed and imported succesfully\n"
          ]
        }
      ]
    },
    {
      "cell_type": "code",
      "source": [
        "#Set up Kaggle API Key\n",
        "if not os.path.exists('/root/.kaggle/kaggle.json'):\n",
        "    print(\"Please upload your 'kaggle.json' file.\")\n",
        "    uploaded = files.upload()\n",
        "    !mkdir -p ~/.kaggle\n",
        "    !cp kaggle.json ~/.kaggle/\n",
        "    !chmod 600 ~/.kaggle/kaggle.json\n",
        "else:\n",
        "    print(\"APi key already exists.\")\n",
        "\n",
        "# Download and unzip the dataset if it doesn't exist\n",
        "raw_data_dir = '/content/Citrus_Leaves_Raw'\n",
        "if not os.path.exists(raw_data_dir):\n",
        "    print(\"Downloading and unzipping the Citrus Leaf dataset...\")\n",
        "    !kaggle datasets download -d myprojectdictionary/citrus-leaf-disease-image -p /content\n",
        "    !unzip -q /content/citrus-leaf-disease-image.zip -d {raw_data_dir}\n",
        "    print(\"✅ Dataset is ready.\")\n",
        "else:\n",
        "    print(\"Dataset already downloaded.\")"
      ],
      "metadata": {
        "colab": {
          "base_uri": "https://localhost:8080/"
        },
        "id": "PVDI0nLrv7ek",
        "outputId": "4d60c26d-325f-4bf9-e0eb-36e9aa2b981d"
      },
      "execution_count": 18,
      "outputs": [
        {
          "output_type": "stream",
          "name": "stdout",
          "text": [
            "APi key already exists.\n",
            "Dataset already downloaded.\n"
          ]
        }
      ]
    },
    {
      "cell_type": "code",
      "source": [
        "#spilt data into train, val and test set folder\n",
        "input_folder = '/content/Citrus_Leaves_Raw/Citrus Leaf Disease Image'\n",
        "output_folder = '/content/Citrus_Leaves_Split'\n",
        "if not os.path.exists(output_folder):\n",
        "    print(\"Splitting data into train, val, and test sets...\")\n",
        "    splitfolders.ratio(input_folder, output=output_folder, seed=42, ratio=(.7, .15, .15))\n",
        "    print(\"data splitting complete\")\n",
        "else:\n",
        "    print(\"Data already split.\")"
      ],
      "metadata": {
        "colab": {
          "base_uri": "https://localhost:8080/"
        },
        "id": "XBaTrANdyhih",
        "outputId": "55ce2348-b594-4f43-d45b-04e46b5f9f5a"
      },
      "execution_count": 19,
      "outputs": [
        {
          "output_type": "stream",
          "name": "stdout",
          "text": [
            "Data already split.\n"
          ]
        }
      ]
    },
    {
      "cell_type": "code",
      "source": [
        "#Defining the directories and image parameters\n",
        "train_dir = os.path.join(output_folder, 'train')\n",
        "val_dir = os.path.join(output_folder, 'val')\n",
        "test_dir = os.path.join(output_folder, 'test')\n",
        "Image_height = 224\n",
        "Image_width = 224\n",
        "batch_size = 32\n",
        "\n",
        "train_datagen = ImageDataGenerator(\n",
        "    rescale=1./255, rotation_range=20, width_shift_range=0.2, height_shift_range=0.2,\n",
        "    shear_range=0.2, zoom_range=0.2, horizontal_flip=True, fill_mode='nearest')\n",
        "\n",
        "train_datagen = ImageDataGenerator(rescale=1./255)\n",
        "\n",
        "train_generator = train_datagen.flow_from_directory(\n",
        "    train_dir, target_size=(Image_height, Image_width), batch_size=batch_size, class_mode='categorical')\n",
        "\n",
        "validation_generator = train_datagen.flow_from_directory(\n",
        "    val_dir, target_size=(Image_height, Image_width), batch_size=batch_size, class_mode='categorical')\n",
        "\n",
        "test_generator = train_datagen.flow_from_directory(\n",
        "    test_dir, target_size=(Image_height, Image_width), batch_size=batch_size, class_mode='categorical')\n",
        "\n",
        "print(\"Data generators are ready.\")\n",
        "print(\"Class Indices\", test_generator.class_indices)"
      ],
      "metadata": {
        "colab": {
          "base_uri": "https://localhost:8080/"
        },
        "id": "RoNB94nw3mOd",
        "outputId": "40246fdf-26f2-4fce-b446-76820e4d5086"
      },
      "execution_count": 24,
      "outputs": [
        {
          "output_type": "stream",
          "name": "stdout",
          "text": [
            "Found 423 images belonging to 5 classes.\n",
            "Found 88 images belonging to 5 classes.\n",
            "Found 96 images belonging to 5 classes.\n",
            "Data generators are ready.\n",
            "Class Indices {'Black spot': 0, 'Canker': 1, 'Greening': 2, 'Healthy': 3, 'Melanose': 4}\n"
          ]
        }
      ]
    },
    {
      "cell_type": "code",
      "source": [],
      "metadata": {
        "id": "jxsDHh2L5dP0"
      },
      "execution_count": null,
      "outputs": []
    }
  ]
}